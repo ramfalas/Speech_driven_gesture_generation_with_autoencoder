{
 "metadata": {
  "language_info": {
   "codemirror_mode": {
    "name": "ipython",
    "version": 3
   },
   "file_extension": ".py",
   "mimetype": "text/x-python",
   "name": "python",
   "nbconvert_exporter": "python",
   "pygments_lexer": "ipython3",
   "version": "3.6.9-final"
  },
  "orig_nbformat": 2,
  "kernelspec": {
   "name": "python3",
   "display_name": "Python 3",
   "language": "python"
  }
 },
 "nbformat": 4,
 "nbformat_minor": 2,
 "cells": [
  {
   "cell_type": "code",
   "execution_count": 1,
   "metadata": {},
   "outputs": [
    {
     "output_type": "stream",
     "name": "stderr",
     "text": [
      "Using TensorFlow backend.\n",
      "WARNING:tensorflow:Deprecation warnings have been disabled. Set TF_ENABLE_DEPRECATION_WARNINGS=1 to re-enable them.\n"
     ]
    }
   ],
   "source": [
    "from keras.models import load_model\n",
    "import numpy as np"
   ]
  },
  {
   "cell_type": "code",
   "execution_count": 2,
   "metadata": {},
   "outputs": [],
   "source": [
    "MODEL_NAME = './models/baseline_model.hdf5'\n",
    "AUDIO_INPUT = './data/test_inputs/X_test_audio1096.npy'\n",
    "GESTURE_OUTPUT = './data/test_outputs/predict_1096.txt'"
   ]
  },
  {
   "cell_type": "code",
   "execution_count": 3,
   "metadata": {},
   "outputs": [
    {
     "output_type": "stream",
     "name": "stdout",
     "text": [
      "WARNING:tensorflow:From /usr/local/lib/python3.6/dist-packages/keras/backend/tensorflow_backend.py:422: The name tf.global_variables is deprecated. Please use tf.compat.v1.global_variables instead.\n\n"
     ]
    }
   ],
   "source": [
    "model = load_model(MODEL_NAME)"
   ]
  },
  {
   "cell_type": "code",
   "execution_count": 4,
   "metadata": {},
   "outputs": [
    {
     "output_type": "stream",
     "name": "stdout",
     "text": [
      "Model: \"sequential_2\"\n_________________________________________________________________\nLayer (type)                 Output Shape              Param #   \n=================================================================\ntime_distributed_4 (TimeDist (None, 61, 256)           6912      \n_________________________________________________________________\nbatch_normalization_5 (Batch (None, 61, 256)           1024      \n_________________________________________________________________\nactivation_6 (Activation)    (None, 61, 256)           0         \n_________________________________________________________________\ndropout_5 (Dropout)          (None, 61, 256)           0         \n_________________________________________________________________\ntime_distributed_5 (TimeDist (None, 61, 256)           65792     \n_________________________________________________________________\nbatch_normalization_6 (Batch (None, 61, 256)           1024      \n_________________________________________________________________\nactivation_7 (Activation)    (None, 61, 256)           0         \n_________________________________________________________________\ndropout_6 (Dropout)          (None, 61, 256)           0         \n_________________________________________________________________\ntime_distributed_6 (TimeDist (None, 61, 256)           65792     \n_________________________________________________________________\nbatch_normalization_7 (Batch (None, 61, 256)           1024      \n_________________________________________________________________\nactivation_8 (Activation)    (None, 61, 256)           0         \n_________________________________________________________________\ndropout_7 (Dropout)          (None, 61, 256)           0         \n_________________________________________________________________\ngru_2 (GRU)                  (None, 256)               393984    \n_________________________________________________________________\nbatch_normalization_8 (Batch (None, 256)               1024      \n_________________________________________________________________\nactivation_9 (Activation)    (None, 256)               0         \n_________________________________________________________________\ndropout_8 (Dropout)          (None, 256)               0         \n_________________________________________________________________\ndense_8 (Dense)              (None, 384)               98688     \n_________________________________________________________________\nactivation_10 (Activation)   (None, 384)               0         \n=================================================================\nTotal params: 635,264\nTrainable params: 633,216\nNon-trainable params: 2,048\n_________________________________________________________________\n"
     ]
    }
   ],
   "source": [
    "model.summary()"
   ]
  },
  {
   "cell_type": "code",
   "execution_count": 5,
   "metadata": {},
   "outputs": [],
   "source": [
    "X = np.load(AUDIO_INPUT)"
   ]
  },
  {
   "cell_type": "code",
   "execution_count": 6,
   "metadata": {},
   "outputs": [
    {
     "output_type": "execute_result",
     "data": {
      "text/plain": [
       "(205, 61, 26)"
      ]
     },
     "metadata": {},
     "execution_count": 6
    }
   ],
   "source": [
    "X.shape"
   ]
  },
  {
   "cell_type": "code",
   "execution_count": 7,
   "metadata": {},
   "outputs": [],
   "source": [
    "pred = model.predict(X)"
   ]
  },
  {
   "cell_type": "code",
   "execution_count": 8,
   "metadata": {},
   "outputs": [
    {
     "output_type": "execute_result",
     "data": {
      "text/plain": [
       "(205, 384)"
      ]
     },
     "metadata": {},
     "execution_count": 8
    }
   ],
   "source": [
    "pred.shape"
   ]
  },
  {
   "source": [
    "Dimension of the predicted data is `(243, 384)`, where 243 denotes the number of time steps, and 384 denotes the x,y,z positions and velocities of the 64 joints (64*(3+3) = 384). Because of that we first need to remove the velocities."
   ],
   "cell_type": "markdown",
   "metadata": {}
  },
  {
   "cell_type": "code",
   "execution_count": 9,
   "metadata": {},
   "outputs": [],
   "source": [
    "def remove_velocity(data, dim=3):\n",
    "    \"\"\"Remove velocity values from raw prediction data\n",
    "\n",
    "      Args:\n",
    "          data:         array containing both position and velocity values\n",
    "          dim:          gesture dimensionality\n",
    "\n",
    "      Returns:\n",
    "          np.ndarray:   array containing only position values\n",
    "    \"\"\"\n",
    "\n",
    "    starts = np.arange(0, data.shape[1], dim * 2)\n",
    "    stops = np.arange(dim, data.shape[1], dim * 2)\n",
    "    return np.hstack([data[:, i:j] for i, j in zip(starts, stops)])"
   ]
  },
  {
   "cell_type": "code",
   "execution_count": 10,
   "metadata": {},
   "outputs": [],
   "source": [
    "# Remove velocity values\n",
    "only_pos = remove_velocity(pred)"
   ]
  },
  {
   "cell_type": "code",
   "execution_count": 11,
   "metadata": {},
   "outputs": [
    {
     "output_type": "execute_result",
     "data": {
      "text/plain": [
       "(205, 192)"
      ]
     },
     "metadata": {},
     "execution_count": 11
    }
   ],
   "source": [
    "only_pos.shape"
   ]
  },
  {
   "source": [
    "We can see that we now have the dimension of the data `(243, 192)`"
   ],
   "cell_type": "markdown",
   "metadata": {}
  },
  {
   "cell_type": "code",
   "execution_count": 12,
   "metadata": {},
   "outputs": [],
   "source": [
    "np.savetxt(GESTURE_OUTPUT, only_pos)"
   ]
  },
  {
   "cell_type": "code",
   "execution_count": null,
   "metadata": {},
   "outputs": [],
   "source": []
  }
 ]
}