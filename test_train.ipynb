{
 "metadata": {
  "language_info": {
   "codemirror_mode": {
    "name": "ipython",
    "version": 3
   },
   "file_extension": ".py",
   "mimetype": "text/x-python",
   "name": "python",
   "nbconvert_exporter": "python",
   "pygments_lexer": "ipython3",
   "version": "3.6.9-final"
  },
  "orig_nbformat": 2,
  "kernelspec": {
   "name": "python3",
   "display_name": "Python 3",
   "language": "python"
  }
 },
 "nbformat": 4,
 "nbformat_minor": 2,
 "cells": [
  {
   "cell_type": "code",
   "execution_count": 1,
   "metadata": {},
   "outputs": [
    {
     "output_type": "stream",
     "name": "stdout",
     "text": [
      "WARNING:tensorflow:Deprecation warnings have been disabled. Set TF_ENABLE_DEPRECATION_WARNINGS=1 to re-enable them.\n",
      "Using TensorFlow backend.\n"
     ]
    }
   ],
   "source": [
    "import numpy as np\n",
    "from sklearn.model_selection import train_test_split\n",
    "\n",
    "from keras.models import Sequential\n",
    "from keras.layers import Dense, Activation, Dropout\n",
    "from keras.layers.recurrent import SimpleRNN, LSTM, GRU\n",
    "from keras.optimizers import SGD, Adam\n",
    "from keras.layers.wrappers import TimeDistributed, Bidirectional\n",
    "from keras.layers.normalization import BatchNormalization"
   ]
  },
  {
   "cell_type": "code",
   "execution_count": 2,
   "metadata": {},
   "outputs": [],
   "source": [
    "import matplotlib\n",
    "matplotlib.use('Agg')\n",
    "from matplotlib import pyplot"
   ]
  },
  {
   "cell_type": "code",
   "execution_count": 5,
   "metadata": {},
   "outputs": [],
   "source": [
    "N_OUTPUT = 192 * 2  # Number of Gesture Feature (position + velocity)\n",
    "\n",
    "EPOCHS = 120\n",
    "DATA_DIR = './data'\n",
    "N_INPUT = 26  # Number of input features\n",
    "\n",
    "BATCH_SIZE = 2056\n",
    "N_HIDDEN = 256\n",
    "\n",
    "N_CONTEXT = 60 + 1  # The number of frames in the context"
   ]
  },
  {
   "cell_type": "code",
   "execution_count": 6,
   "metadata": {},
   "outputs": [],
   "source": [
    "# Get the data\n",
    "X = np.load(DATA_DIR + '/X_train.npy')\n",
    "Y = np.load(DATA_DIR + '/Y_train.npy')"
   ]
  },
  {
   "cell_type": "code",
   "execution_count": 7,
   "metadata": {},
   "outputs": [
    {
     "output_type": "stream",
     "name": "stdout",
     "text": [
      "(229968, 61, 26) (229968, 384)\n"
     ]
    }
   ],
   "source": [
    "print(X.shape, Y.shape)"
   ]
  },
  {
   "cell_type": "code",
   "execution_count": 8,
   "metadata": {},
   "outputs": [],
   "source": [
    "N_train = int(len(X)*0.9)\n",
    "N_validation = len(X) - N_train"
   ]
  },
  {
   "cell_type": "code",
   "execution_count": 9,
   "metadata": {},
   "outputs": [],
   "source": [
    "# Split on training and validation\n",
    "X_train, X_validation, Y_train, Y_validation = train_test_split(X, Y, test_size=N_validation)"
   ]
  },
  {
   "cell_type": "code",
   "execution_count": 11,
   "metadata": {},
   "outputs": [],
   "source": [
    "# Define Keras model\n",
    "\n",
    "model = Sequential()\n",
    "model.add(TimeDistributed(Dense(N_HIDDEN), input_shape=(N_CONTEXT, N_INPUT)))\n",
    "model.add(BatchNormalization())\n",
    "model.add(Activation('relu'))\n",
    "model.add(Dropout(0.1))\n",
    "\n",
    "model.add(TimeDistributed(Dense(N_HIDDEN)))\n",
    "model.add(BatchNormalization())\n",
    "model.add(Activation('relu'))\n",
    "model.add(Dropout(0.1))\n",
    "\n",
    "model.add(TimeDistributed(Dense(N_HIDDEN)))\n",
    "model.add(BatchNormalization())\n",
    "model.add(Activation('relu'))\n",
    "model.add(Dropout(0.1))\n",
    "\n",
    "model.add(GRU(N_HIDDEN, return_sequences=False))\n",
    "model.add(BatchNormalization())\n",
    "model.add(Activation('relu'))\n",
    "model.add(Dropout(0.1))\n",
    "\n",
    "model.add(Dense(N_OUTPUT))\n",
    "model.add(Activation('linear'))"
   ]
  },
  {
   "cell_type": "code",
   "execution_count": 12,
   "metadata": {},
   "outputs": [
    {
     "output_type": "stream",
     "name": "stdout",
     "text": [
      "Model: \"sequential_2\"\n_________________________________________________________________\nLayer (type)                 Output Shape              Param #   \n=================================================================\ntime_distributed_4 (TimeDist (None, 61, 256)           6912      \n_________________________________________________________________\nbatch_normalization_5 (Batch (None, 61, 256)           1024      \n_________________________________________________________________\nactivation_6 (Activation)    (None, 61, 256)           0         \n_________________________________________________________________\ndropout_5 (Dropout)          (None, 61, 256)           0         \n_________________________________________________________________\ntime_distributed_5 (TimeDist (None, 61, 256)           65792     \n_________________________________________________________________\nbatch_normalization_6 (Batch (None, 61, 256)           1024      \n_________________________________________________________________\nactivation_7 (Activation)    (None, 61, 256)           0         \n_________________________________________________________________\ndropout_6 (Dropout)          (None, 61, 256)           0         \n_________________________________________________________________\ntime_distributed_6 (TimeDist (None, 61, 256)           65792     \n_________________________________________________________________\nbatch_normalization_7 (Batch (None, 61, 256)           1024      \n_________________________________________________________________\nactivation_8 (Activation)    (None, 61, 256)           0         \n_________________________________________________________________\ndropout_7 (Dropout)          (None, 61, 256)           0         \n_________________________________________________________________\ngru_2 (GRU)                  (None, 256)               393984    \n_________________________________________________________________\nbatch_normalization_8 (Batch (None, 256)               1024      \n_________________________________________________________________\nactivation_9 (Activation)    (None, 256)               0         \n_________________________________________________________________\ndropout_8 (Dropout)          (None, 256)               0         \n_________________________________________________________________\ndense_8 (Dense)              (None, 384)               98688     \n_________________________________________________________________\nactivation_10 (Activation)   (None, 384)               0         \n=================================================================\nTotal params: 635,264\nTrainable params: 633,216\nNon-trainable params: 2,048\n_________________________________________________________________\n"
     ]
    }
   ],
   "source": [
    "model.summary()"
   ]
  },
  {
   "cell_type": "code",
   "execution_count": 13,
   "metadata": {},
   "outputs": [],
   "source": [
    "optimizer = Adam(lr=0.001, beta_1=0.9, beta_2=0.999)\n",
    "model.compile(loss='mean_squared_error', optimizer=optimizer)"
   ]
  },
  {
   "cell_type": "code",
   "execution_count": 14,
   "metadata": {},
   "outputs": [
    {
     "output_type": "stream",
     "name": "stdout",
     "text": [
      "WARNING:tensorflow:From /usr/local/lib/python3.6/dist-packages/keras/backend/tensorflow_backend.py:422: The name tf.global_variables is deprecated. Please use tf.compat.v1.global_variables instead.\n",
      "\n",
      "Train on 206971 samples, validate on 22997 samples\n",
      "Epoch 1/120\n",
      "206971/206971 [==============================] - 17s 84us/step - loss: 566.5158 - val_loss: 392.4154\n",
      "Epoch 2/120\n",
      "206971/206971 [==============================] - 16s 80us/step - loss: 273.1686 - val_loss: 144.5669\n",
      "Epoch 3/120\n",
      "206971/206971 [==============================] - 16s 79us/step - loss: 96.3290 - val_loss: 50.6729\n",
      "Epoch 4/120\n",
      "206971/206971 [==============================] - 16s 79us/step - loss: 40.0310 - val_loss: 31.0936\n",
      "Epoch 5/120\n",
      "206971/206971 [==============================] - 16s 79us/step - loss: 29.2517 - val_loss: 26.6001\n",
      "Epoch 6/120\n",
      "206971/206971 [==============================] - 16s 80us/step - loss: 26.2494 - val_loss: 24.9608\n",
      "Epoch 7/120\n",
      "206971/206971 [==============================] - 17s 80us/step - loss: 24.8027 - val_loss: 23.5973\n",
      "Epoch 8/120\n",
      "206971/206971 [==============================] - 16s 80us/step - loss: 23.7121 - val_loss: 22.7740\n",
      "Epoch 9/120\n",
      "206971/206971 [==============================] - 17s 80us/step - loss: 22.7348 - val_loss: 21.1527\n",
      "Epoch 10/120\n",
      "206971/206971 [==============================] - 17s 80us/step - loss: 22.0711 - val_loss: 20.3960\n",
      "Epoch 11/120\n",
      "206971/206971 [==============================] - 17s 80us/step - loss: 21.0401 - val_loss: 20.5235\n",
      "Epoch 12/120\n",
      "206971/206971 [==============================] - 17s 80us/step - loss: 20.3396 - val_loss: 18.6376\n",
      "Epoch 13/120\n",
      "206971/206971 [==============================] - 17s 80us/step - loss: 19.5784 - val_loss: 17.7629\n",
      "Epoch 14/120\n",
      "206971/206971 [==============================] - 17s 80us/step - loss: 19.0157 - val_loss: 21.5617\n",
      "Epoch 15/120\n",
      "206971/206971 [==============================] - 17s 80us/step - loss: 18.4188 - val_loss: 16.7814\n",
      "Epoch 16/120\n",
      "206971/206971 [==============================] - 17s 81us/step - loss: 17.8770 - val_loss: 16.5284\n",
      "Epoch 17/120\n",
      "206971/206971 [==============================] - 16s 79us/step - loss: 17.2571 - val_loss: 15.4087\n",
      "Epoch 18/120\n",
      "206971/206971 [==============================] - 17s 80us/step - loss: 16.6314 - val_loss: 14.6613\n",
      "Epoch 19/120\n",
      "206971/206971 [==============================] - 17s 81us/step - loss: 21.2174 - val_loss: 19.3072\n",
      "Epoch 20/120\n",
      "206971/206971 [==============================] - 17s 80us/step - loss: 18.5721 - val_loss: 16.8220\n",
      "Epoch 21/120\n",
      "206971/206971 [==============================] - 17s 80us/step - loss: 17.1586 - val_loss: 14.7668\n",
      "Epoch 22/120\n",
      "206971/206971 [==============================] - 17s 80us/step - loss: 16.2293 - val_loss: 14.0704\n",
      "Epoch 23/120\n",
      "206971/206971 [==============================] - 17s 81us/step - loss: 15.4179 - val_loss: 13.5978\n",
      "Epoch 24/120\n",
      "206971/206971 [==============================] - 17s 80us/step - loss: 14.7457 - val_loss: 12.8440\n",
      "Epoch 25/120\n",
      "206971/206971 [==============================] - 17s 81us/step - loss: 14.0173 - val_loss: 11.8582\n",
      "Epoch 26/120\n",
      "206971/206971 [==============================] - 17s 81us/step - loss: 13.3829 - val_loss: 11.3369\n",
      "Epoch 27/120\n",
      "206971/206971 [==============================] - 17s 81us/step - loss: 12.7871 - val_loss: 10.8495\n",
      "Epoch 28/120\n",
      "206971/206971 [==============================] - 17s 80us/step - loss: 12.2409 - val_loss: 10.3655\n",
      "Epoch 29/120\n",
      "206971/206971 [==============================] - 17s 81us/step - loss: 11.6601 - val_loss: 9.4457\n",
      "Epoch 30/120\n",
      "206971/206971 [==============================] - 17s 80us/step - loss: 11.1832 - val_loss: 9.1896\n",
      "Epoch 31/120\n",
      "206971/206971 [==============================] - 15s 74us/step - loss: 10.7984 - val_loss: 8.7563\n",
      "Epoch 32/120\n",
      "206971/206971 [==============================] - 15s 74us/step - loss: 10.5253 - val_loss: 8.7308\n",
      "Epoch 33/120\n",
      "206971/206971 [==============================] - 15s 73us/step - loss: 10.0679 - val_loss: 7.8360\n",
      "Epoch 34/120\n",
      "206971/206971 [==============================] - 16s 75us/step - loss: 9.7747 - val_loss: 7.5746\n",
      "Epoch 35/120\n",
      "206971/206971 [==============================] - 16s 76us/step - loss: 9.4738 - val_loss: 7.2673\n",
      "Epoch 36/120\n",
      "206971/206971 [==============================] - 15s 74us/step - loss: 9.1936 - val_loss: 7.1822\n",
      "Epoch 37/120\n",
      "206971/206971 [==============================] - 15s 73us/step - loss: 8.9891 - val_loss: 6.8582\n",
      "Epoch 38/120\n",
      "206971/206971 [==============================] - 15s 74us/step - loss: 8.7578 - val_loss: 6.7823\n",
      "Epoch 39/120\n",
      "206971/206971 [==============================] - 15s 74us/step - loss: 8.5924 - val_loss: 6.4860\n",
      "Epoch 40/120\n",
      "206971/206971 [==============================] - 15s 74us/step - loss: 8.3691 - val_loss: 6.4292\n",
      "Epoch 41/120\n",
      "206971/206971 [==============================] - 16s 76us/step - loss: 8.2584 - val_loss: 6.2055\n",
      "Epoch 42/120\n",
      "206971/206971 [==============================] - 17s 80us/step - loss: 8.0192 - val_loss: 6.0322\n",
      "Epoch 43/120\n",
      "206971/206971 [==============================] - 17s 80us/step - loss: 7.8370 - val_loss: 5.7640\n",
      "Epoch 44/120\n",
      "206971/206971 [==============================] - 17s 80us/step - loss: 7.7149 - val_loss: 6.1766\n",
      "Epoch 45/120\n",
      "206971/206971 [==============================] - 17s 81us/step - loss: 7.5767 - val_loss: 6.0297\n",
      "Epoch 46/120\n",
      "206971/206971 [==============================] - 17s 80us/step - loss: 7.4558 - val_loss: 5.7015\n",
      "Epoch 47/120\n",
      "206971/206971 [==============================] - 17s 80us/step - loss: 7.3012 - val_loss: 5.5243\n",
      "Epoch 48/120\n",
      "206971/206971 [==============================] - 17s 80us/step - loss: 7.1991 - val_loss: 5.2677\n",
      "Epoch 49/120\n",
      "206971/206971 [==============================] - 17s 80us/step - loss: 7.1247 - val_loss: 5.2295\n",
      "Epoch 50/120\n",
      "206971/206971 [==============================] - 17s 80us/step - loss: 7.0156 - val_loss: 5.6417\n",
      "Epoch 51/120\n",
      "206971/206971 [==============================] - 17s 80us/step - loss: 6.9058 - val_loss: 4.9334\n",
      "Epoch 52/120\n",
      "206971/206971 [==============================] - 17s 81us/step - loss: 6.7855 - val_loss: 4.9126\n",
      "Epoch 53/120\n",
      "206971/206971 [==============================] - 17s 81us/step - loss: 6.6949 - val_loss: 4.7718\n",
      "Epoch 54/120\n",
      "206971/206971 [==============================] - 17s 81us/step - loss: 6.5929 - val_loss: 4.8669\n",
      "Epoch 55/120\n",
      "206971/206971 [==============================] - 17s 80us/step - loss: 6.4925 - val_loss: 4.6221\n",
      "Epoch 56/120\n",
      "206971/206971 [==============================] - 17s 80us/step - loss: 6.3950 - val_loss: 4.7003\n",
      "Epoch 57/120\n",
      "206971/206971 [==============================] - 16s 79us/step - loss: 6.3238 - val_loss: 4.9027\n",
      "Epoch 58/120\n",
      "206971/206971 [==============================] - 15s 74us/step - loss: 6.2604 - val_loss: 4.5706\n",
      "Epoch 59/120\n",
      "206971/206971 [==============================] - 15s 74us/step - loss: 6.1734 - val_loss: 4.3698\n",
      "Epoch 60/120\n",
      "206971/206971 [==============================] - 15s 73us/step - loss: 6.0351 - val_loss: 4.4743\n",
      "Epoch 61/120\n",
      "206971/206971 [==============================] - 15s 75us/step - loss: 5.9925 - val_loss: 4.3964\n",
      "Epoch 62/120\n",
      "206971/206971 [==============================] - 15s 74us/step - loss: 5.9675 - val_loss: 4.1738\n",
      "Epoch 63/120\n",
      "206971/206971 [==============================] - 15s 73us/step - loss: 5.8509 - val_loss: 4.1370\n",
      "Epoch 64/120\n",
      "206971/206971 [==============================] - 15s 74us/step - loss: 5.7716 - val_loss: 4.0714\n",
      "Epoch 65/120\n",
      "206971/206971 [==============================] - 15s 74us/step - loss: 5.6830 - val_loss: 3.8586\n",
      "Epoch 66/120\n",
      "206971/206971 [==============================] - 15s 74us/step - loss: 5.6488 - val_loss: 3.9614\n",
      "Epoch 67/120\n",
      "206971/206971 [==============================] - 15s 74us/step - loss: 5.6024 - val_loss: 3.7916\n",
      "Epoch 68/120\n",
      "206971/206971 [==============================] - 15s 73us/step - loss: 5.5195 - val_loss: 3.6577\n",
      "Epoch 69/120\n",
      "206971/206971 [==============================] - 15s 73us/step - loss: 5.4438 - val_loss: 3.7925\n",
      "Epoch 70/120\n",
      "206971/206971 [==============================] - 15s 74us/step - loss: 5.3870 - val_loss: 3.6805\n",
      "Epoch 71/120\n",
      "206971/206971 [==============================] - 15s 75us/step - loss: 5.3498 - val_loss: 3.8815\n",
      "Epoch 72/120\n",
      "206971/206971 [==============================] - 15s 74us/step - loss: 5.2318 - val_loss: 3.5386\n",
      "Epoch 73/120\n",
      "206971/206971 [==============================] - 16s 75us/step - loss: 5.1981 - val_loss: 3.5048\n",
      "Epoch 74/120\n",
      "206971/206971 [==============================] - 15s 75us/step - loss: 5.2030 - val_loss: 3.4252\n",
      "Epoch 75/120\n",
      "206971/206971 [==============================] - 15s 74us/step - loss: 5.1411 - val_loss: 3.3971\n",
      "Epoch 76/120\n",
      "206971/206971 [==============================] - 15s 73us/step - loss: 5.0719 - val_loss: 3.5613\n",
      "Epoch 77/120\n",
      "206971/206971 [==============================] - 15s 75us/step - loss: 5.0367 - val_loss: 3.3411\n",
      "Epoch 78/120\n",
      "206971/206971 [==============================] - 15s 74us/step - loss: 5.0098 - val_loss: 3.3640\n",
      "Epoch 79/120\n",
      "206971/206971 [==============================] - 15s 73us/step - loss: 4.9438 - val_loss: 3.4510\n",
      "Epoch 80/120\n",
      "206971/206971 [==============================] - 15s 74us/step - loss: 4.9316 - val_loss: 3.1674\n",
      "Epoch 81/120\n",
      "206971/206971 [==============================] - 15s 73us/step - loss: 4.9187 - val_loss: 3.3647\n",
      "Epoch 82/120\n",
      "206971/206971 [==============================] - 15s 74us/step - loss: 4.8243 - val_loss: 3.1802\n",
      "Epoch 83/120\n",
      "206971/206971 [==============================] - 15s 74us/step - loss: 4.8501 - val_loss: 3.4056\n",
      "Epoch 84/120\n",
      "206971/206971 [==============================] - 15s 73us/step - loss: 4.7794 - val_loss: 3.0969\n",
      "Epoch 85/120\n",
      "206971/206971 [==============================] - 15s 74us/step - loss: 4.7187 - val_loss: 3.1636\n",
      "Epoch 86/120\n",
      "206971/206971 [==============================] - 15s 73us/step - loss: 4.7174 - val_loss: 3.1010\n",
      "Epoch 87/120\n",
      "206971/206971 [==============================] - 15s 73us/step - loss: 4.6422 - val_loss: 2.9596\n",
      "Epoch 88/120\n",
      "206971/206971 [==============================] - 15s 75us/step - loss: 4.6423 - val_loss: 3.0462\n",
      "Epoch 89/120\n",
      "206971/206971 [==============================] - 15s 74us/step - loss: 4.6197 - val_loss: 3.1836\n",
      "Epoch 90/120\n",
      "206971/206971 [==============================] - 15s 74us/step - loss: 4.5913 - val_loss: 2.9808\n",
      "Epoch 91/120\n",
      "206971/206971 [==============================] - 16s 75us/step - loss: 4.5248 - val_loss: 2.9292\n",
      "Epoch 92/120\n",
      "206971/206971 [==============================] - 15s 74us/step - loss: 4.4853 - val_loss: 2.9213\n",
      "Epoch 93/120\n",
      "206971/206971 [==============================] - 15s 73us/step - loss: 4.4758 - val_loss: 2.9996\n",
      "Epoch 94/120\n",
      "206971/206971 [==============================] - 15s 74us/step - loss: 4.4633 - val_loss: 2.8918\n",
      "Epoch 95/120\n",
      "206971/206971 [==============================] - 15s 73us/step - loss: 4.4223 - val_loss: 2.8762\n",
      "Epoch 96/120\n",
      "206971/206971 [==============================] - 15s 73us/step - loss: 4.4071 - val_loss: 2.8696\n",
      "Epoch 97/120\n",
      "206971/206971 [==============================] - 15s 74us/step - loss: 4.3895 - val_loss: 2.7979\n",
      "Epoch 98/120\n",
      "206971/206971 [==============================] - 15s 74us/step - loss: 4.3746 - val_loss: 2.8506\n",
      "Epoch 99/120\n",
      "206971/206971 [==============================] - 15s 73us/step - loss: 4.3025 - val_loss: 2.8680\n",
      "Epoch 100/120\n",
      "206971/206971 [==============================] - 15s 73us/step - loss: 4.3068 - val_loss: 3.1986\n",
      "Epoch 101/120\n",
      "206971/206971 [==============================] - 15s 74us/step - loss: 4.2703 - val_loss: 2.7082\n",
      "Epoch 102/120\n",
      "206971/206971 [==============================] - 15s 74us/step - loss: 4.2420 - val_loss: 3.0841\n",
      "Epoch 103/120\n",
      "206971/206971 [==============================] - 15s 73us/step - loss: 4.2599 - val_loss: 2.7165\n",
      "Epoch 104/120\n",
      "206971/206971 [==============================] - 15s 73us/step - loss: 4.2138 - val_loss: 2.7637\n",
      "Epoch 105/120\n",
      "206971/206971 [==============================] - 15s 72us/step - loss: 4.1981 - val_loss: 2.6502\n",
      "Epoch 106/120\n",
      "206971/206971 [==============================] - 15s 73us/step - loss: 4.1647 - val_loss: 2.6374\n",
      "Epoch 107/120\n",
      "206971/206971 [==============================] - 15s 73us/step - loss: 4.1241 - val_loss: 2.8948\n",
      "Epoch 108/120\n",
      "206971/206971 [==============================] - 15s 73us/step - loss: 4.1166 - val_loss: 2.6537\n",
      "Epoch 109/120\n",
      "206971/206971 [==============================] - 15s 73us/step - loss: 4.1052 - val_loss: 2.6451\n",
      "Epoch 110/120\n",
      "206971/206971 [==============================] - 15s 73us/step - loss: 4.0845 - val_loss: 2.6172\n",
      "Epoch 111/120\n",
      "206971/206971 [==============================] - 15s 74us/step - loss: 4.0507 - val_loss: 2.7731\n",
      "Epoch 112/120\n",
      "206971/206971 [==============================] - 15s 73us/step - loss: 4.0576 - val_loss: 2.5691\n",
      "Epoch 113/120\n",
      "206971/206971 [==============================] - 15s 73us/step - loss: 4.1490 - val_loss: 2.6423\n",
      "Epoch 114/120\n",
      "206971/206971 [==============================] - 15s 74us/step - loss: 3.9879 - val_loss: 2.4831\n",
      "Epoch 115/120\n",
      "206971/206971 [==============================] - 15s 74us/step - loss: 3.9864 - val_loss: 2.6890\n",
      "Epoch 116/120\n",
      "206971/206971 [==============================] - 15s 74us/step - loss: 3.9859 - val_loss: 2.5464\n",
      "Epoch 117/120\n",
      "206971/206971 [==============================] - 15s 74us/step - loss: 3.9403 - val_loss: 2.5953\n",
      "Epoch 118/120\n",
      "206971/206971 [==============================] - 15s 74us/step - loss: 3.9232 - val_loss: 2.5034\n",
      "Epoch 119/120\n",
      "206971/206971 [==============================] - 15s 73us/step - loss: 3.9177 - val_loss: 2.4634\n",
      "Epoch 120/120\n",
      "206971/206971 [==============================] - 15s 73us/step - loss: 3.8795 - val_loss: 2.6967\n"
     ]
    }
   ],
   "source": [
    "hist = model.fit(X_train,\n",
    "                 Y_train,\n",
    "                 batch_size=BATCH_SIZE,\n",
    "                 epochs=EPOCHS,\n",
    "                 validation_data=(X_validation, Y_validation))\n"
   ]
  },
  {
   "cell_type": "code",
   "execution_count": 15,
   "metadata": {},
   "outputs": [],
   "source": [
    "model.save('./models/baseline_model.hdf5')"
   ]
  },
  {
   "cell_type": "code",
   "execution_count": 17,
   "metadata": {},
   "outputs": [],
   "source": [
    "%matplotlib inline "
   ]
  },
  {
   "cell_type": "code",
   "execution_count": 18,
   "metadata": {},
   "outputs": [
    {
     "output_type": "display_data",
     "data": {
      "text/plain": "<Figure size 432x288 with 1 Axes>",
      "image/svg+xml": "<?xml version=\"1.0\" encoding=\"utf-8\" standalone=\"no\"?>\n<!DOCTYPE svg PUBLIC \"-//W3C//DTD SVG 1.1//EN\"\n  \"http://www.w3.org/Graphics/SVG/1.1/DTD/svg11.dtd\">\n<!-- Created with matplotlib (https://matplotlib.org/) -->\n<svg height=\"262.19625pt\" version=\"1.1\" viewBox=\"0 0 388.965625 262.19625\" width=\"388.965625pt\" xmlns=\"http://www.w3.org/2000/svg\" xmlns:xlink=\"http://www.w3.org/1999/xlink\">\n <defs>\n  <style type=\"text/css\">\n*{stroke-linecap:butt;stroke-linejoin:round;}\n  </style>\n </defs>\n <g id=\"figure_1\">\n  <g id=\"patch_1\">\n   <path d=\"M -0 262.19625 \nL 388.965625 262.19625 \nL 388.965625 0 \nL -0 0 \nz\n\" style=\"fill:none;\"/>\n  </g>\n  <g id=\"axes_1\">\n   <g id=\"patch_2\">\n    <path d=\"M 46.965625 224.64 \nL 381.765625 224.64 \nL 381.765625 7.2 \nL 46.965625 7.2 \nz\n\" style=\"fill:#ffffff;\"/>\n   </g>\n   <g id=\"matplotlib.axis_1\">\n    <g id=\"xtick_1\">\n     <g id=\"line2d_1\">\n      <path clip-path=\"url(#p85af397aa3)\" d=\"M 62.183807 224.64 \nL 62.183807 7.2 \n\" style=\"fill:none;stroke:#b0b0b0;stroke-linecap:square;stroke-width:0.8;\"/>\n     </g>\n     <g id=\"line2d_2\">\n      <defs>\n       <path d=\"M 0 0 \nL 0 3.5 \n\" id=\"m38a040ce9e\" style=\"stroke:#000000;stroke-width:0.8;\"/>\n      </defs>\n      <g>\n       <use style=\"stroke:#000000;stroke-width:0.8;\" x=\"62.183807\" xlink:href=\"#m38a040ce9e\" y=\"224.64\"/>\n      </g>\n     </g>\n     <g id=\"text_1\">\n      <!-- 0 -->\n      <defs>\n       <path d=\"M 31.78125 66.40625 \nQ 24.171875 66.40625 20.328125 58.90625 \nQ 16.5 51.421875 16.5 36.375 \nQ 16.5 21.390625 20.328125 13.890625 \nQ 24.171875 6.390625 31.78125 6.390625 \nQ 39.453125 6.390625 43.28125 13.890625 \nQ 47.125 21.390625 47.125 36.375 \nQ 47.125 51.421875 43.28125 58.90625 \nQ 39.453125 66.40625 31.78125 66.40625 \nz\nM 31.78125 74.21875 \nQ 44.046875 74.21875 50.515625 64.515625 \nQ 56.984375 54.828125 56.984375 36.375 \nQ 56.984375 17.96875 50.515625 8.265625 \nQ 44.046875 -1.421875 31.78125 -1.421875 \nQ 19.53125 -1.421875 13.0625 8.265625 \nQ 6.59375 17.96875 6.59375 36.375 \nQ 6.59375 54.828125 13.0625 64.515625 \nQ 19.53125 74.21875 31.78125 74.21875 \nz\n\" id=\"DejaVuSans-48\"/>\n      </defs>\n      <g transform=\"translate(59.002557 239.238437)scale(0.1 -0.1)\">\n       <use xlink:href=\"#DejaVuSans-48\"/>\n      </g>\n     </g>\n    </g>\n    <g id=\"xtick_2\">\n     <g id=\"line2d_3\">\n      <path clip-path=\"url(#p85af397aa3)\" d=\"M 113.337359 224.64 \nL 113.337359 7.2 \n\" style=\"fill:none;stroke:#b0b0b0;stroke-linecap:square;stroke-width:0.8;\"/>\n     </g>\n     <g id=\"line2d_4\">\n      <g>\n       <use style=\"stroke:#000000;stroke-width:0.8;\" x=\"113.337359\" xlink:href=\"#m38a040ce9e\" y=\"224.64\"/>\n      </g>\n     </g>\n     <g id=\"text_2\">\n      <!-- 20 -->\n      <defs>\n       <path d=\"M 19.1875 8.296875 \nL 53.609375 8.296875 \nL 53.609375 0 \nL 7.328125 0 \nL 7.328125 8.296875 \nQ 12.9375 14.109375 22.625 23.890625 \nQ 32.328125 33.6875 34.8125 36.53125 \nQ 39.546875 41.84375 41.421875 45.53125 \nQ 43.3125 49.21875 43.3125 52.78125 \nQ 43.3125 58.59375 39.234375 62.25 \nQ 35.15625 65.921875 28.609375 65.921875 \nQ 23.96875 65.921875 18.8125 64.3125 \nQ 13.671875 62.703125 7.8125 59.421875 \nL 7.8125 69.390625 \nQ 13.765625 71.78125 18.9375 73 \nQ 24.125 74.21875 28.421875 74.21875 \nQ 39.75 74.21875 46.484375 68.546875 \nQ 53.21875 62.890625 53.21875 53.421875 \nQ 53.21875 48.921875 51.53125 44.890625 \nQ 49.859375 40.875 45.40625 35.40625 \nQ 44.1875 33.984375 37.640625 27.21875 \nQ 31.109375 20.453125 19.1875 8.296875 \nz\n\" id=\"DejaVuSans-50\"/>\n      </defs>\n      <g transform=\"translate(106.974859 239.238437)scale(0.1 -0.1)\">\n       <use xlink:href=\"#DejaVuSans-50\"/>\n       <use x=\"63.623047\" xlink:href=\"#DejaVuSans-48\"/>\n      </g>\n     </g>\n    </g>\n    <g id=\"xtick_3\">\n     <g id=\"line2d_5\">\n      <path clip-path=\"url(#p85af397aa3)\" d=\"M 164.490911 224.64 \nL 164.490911 7.2 \n\" style=\"fill:none;stroke:#b0b0b0;stroke-linecap:square;stroke-width:0.8;\"/>\n     </g>\n     <g id=\"line2d_6\">\n      <g>\n       <use style=\"stroke:#000000;stroke-width:0.8;\" x=\"164.490911\" xlink:href=\"#m38a040ce9e\" y=\"224.64\"/>\n      </g>\n     </g>\n     <g id=\"text_3\">\n      <!-- 40 -->\n      <defs>\n       <path d=\"M 37.796875 64.3125 \nL 12.890625 25.390625 \nL 37.796875 25.390625 \nz\nM 35.203125 72.90625 \nL 47.609375 72.90625 \nL 47.609375 25.390625 \nL 58.015625 25.390625 \nL 58.015625 17.1875 \nL 47.609375 17.1875 \nL 47.609375 0 \nL 37.796875 0 \nL 37.796875 17.1875 \nL 4.890625 17.1875 \nL 4.890625 26.703125 \nz\n\" id=\"DejaVuSans-52\"/>\n      </defs>\n      <g transform=\"translate(158.128411 239.238437)scale(0.1 -0.1)\">\n       <use xlink:href=\"#DejaVuSans-52\"/>\n       <use x=\"63.623047\" xlink:href=\"#DejaVuSans-48\"/>\n      </g>\n     </g>\n    </g>\n    <g id=\"xtick_4\">\n     <g id=\"line2d_7\">\n      <path clip-path=\"url(#p85af397aa3)\" d=\"M 215.644464 224.64 \nL 215.644464 7.2 \n\" style=\"fill:none;stroke:#b0b0b0;stroke-linecap:square;stroke-width:0.8;\"/>\n     </g>\n     <g id=\"line2d_8\">\n      <g>\n       <use style=\"stroke:#000000;stroke-width:0.8;\" x=\"215.644464\" xlink:href=\"#m38a040ce9e\" y=\"224.64\"/>\n      </g>\n     </g>\n     <g id=\"text_4\">\n      <!-- 60 -->\n      <defs>\n       <path d=\"M 33.015625 40.375 \nQ 26.375 40.375 22.484375 35.828125 \nQ 18.609375 31.296875 18.609375 23.390625 \nQ 18.609375 15.53125 22.484375 10.953125 \nQ 26.375 6.390625 33.015625 6.390625 \nQ 39.65625 6.390625 43.53125 10.953125 \nQ 47.40625 15.53125 47.40625 23.390625 \nQ 47.40625 31.296875 43.53125 35.828125 \nQ 39.65625 40.375 33.015625 40.375 \nz\nM 52.59375 71.296875 \nL 52.59375 62.3125 \nQ 48.875 64.0625 45.09375 64.984375 \nQ 41.3125 65.921875 37.59375 65.921875 \nQ 27.828125 65.921875 22.671875 59.328125 \nQ 17.53125 52.734375 16.796875 39.40625 \nQ 19.671875 43.65625 24.015625 45.921875 \nQ 28.375 48.1875 33.59375 48.1875 \nQ 44.578125 48.1875 50.953125 41.515625 \nQ 57.328125 34.859375 57.328125 23.390625 \nQ 57.328125 12.15625 50.6875 5.359375 \nQ 44.046875 -1.421875 33.015625 -1.421875 \nQ 20.359375 -1.421875 13.671875 8.265625 \nQ 6.984375 17.96875 6.984375 36.375 \nQ 6.984375 53.65625 15.1875 63.9375 \nQ 23.390625 74.21875 37.203125 74.21875 \nQ 40.921875 74.21875 44.703125 73.484375 \nQ 48.484375 72.75 52.59375 71.296875 \nz\n\" id=\"DejaVuSans-54\"/>\n      </defs>\n      <g transform=\"translate(209.281964 239.238437)scale(0.1 -0.1)\">\n       <use xlink:href=\"#DejaVuSans-54\"/>\n       <use x=\"63.623047\" xlink:href=\"#DejaVuSans-48\"/>\n      </g>\n     </g>\n    </g>\n    <g id=\"xtick_5\">\n     <g id=\"line2d_9\">\n      <path clip-path=\"url(#p85af397aa3)\" d=\"M 266.798016 224.64 \nL 266.798016 7.2 \n\" style=\"fill:none;stroke:#b0b0b0;stroke-linecap:square;stroke-width:0.8;\"/>\n     </g>\n     <g id=\"line2d_10\">\n      <g>\n       <use style=\"stroke:#000000;stroke-width:0.8;\" x=\"266.798016\" xlink:href=\"#m38a040ce9e\" y=\"224.64\"/>\n      </g>\n     </g>\n     <g id=\"text_5\">\n      <!-- 80 -->\n      <defs>\n       <path d=\"M 31.78125 34.625 \nQ 24.75 34.625 20.71875 30.859375 \nQ 16.703125 27.09375 16.703125 20.515625 \nQ 16.703125 13.921875 20.71875 10.15625 \nQ 24.75 6.390625 31.78125 6.390625 \nQ 38.8125 6.390625 42.859375 10.171875 \nQ 46.921875 13.96875 46.921875 20.515625 \nQ 46.921875 27.09375 42.890625 30.859375 \nQ 38.875 34.625 31.78125 34.625 \nz\nM 21.921875 38.8125 \nQ 15.578125 40.375 12.03125 44.71875 \nQ 8.5 49.078125 8.5 55.328125 \nQ 8.5 64.0625 14.71875 69.140625 \nQ 20.953125 74.21875 31.78125 74.21875 \nQ 42.671875 74.21875 48.875 69.140625 \nQ 55.078125 64.0625 55.078125 55.328125 \nQ 55.078125 49.078125 51.53125 44.71875 \nQ 48 40.375 41.703125 38.8125 \nQ 48.828125 37.15625 52.796875 32.3125 \nQ 56.78125 27.484375 56.78125 20.515625 \nQ 56.78125 9.90625 50.3125 4.234375 \nQ 43.84375 -1.421875 31.78125 -1.421875 \nQ 19.734375 -1.421875 13.25 4.234375 \nQ 6.78125 9.90625 6.78125 20.515625 \nQ 6.78125 27.484375 10.78125 32.3125 \nQ 14.796875 37.15625 21.921875 38.8125 \nz\nM 18.3125 54.390625 \nQ 18.3125 48.734375 21.84375 45.5625 \nQ 25.390625 42.390625 31.78125 42.390625 \nQ 38.140625 42.390625 41.71875 45.5625 \nQ 45.3125 48.734375 45.3125 54.390625 \nQ 45.3125 60.0625 41.71875 63.234375 \nQ 38.140625 66.40625 31.78125 66.40625 \nQ 25.390625 66.40625 21.84375 63.234375 \nQ 18.3125 60.0625 18.3125 54.390625 \nz\n\" id=\"DejaVuSans-56\"/>\n      </defs>\n      <g transform=\"translate(260.435516 239.238437)scale(0.1 -0.1)\">\n       <use xlink:href=\"#DejaVuSans-56\"/>\n       <use x=\"63.623047\" xlink:href=\"#DejaVuSans-48\"/>\n      </g>\n     </g>\n    </g>\n    <g id=\"xtick_6\">\n     <g id=\"line2d_11\">\n      <path clip-path=\"url(#p85af397aa3)\" d=\"M 317.951568 224.64 \nL 317.951568 7.2 \n\" style=\"fill:none;stroke:#b0b0b0;stroke-linecap:square;stroke-width:0.8;\"/>\n     </g>\n     <g id=\"line2d_12\">\n      <g>\n       <use style=\"stroke:#000000;stroke-width:0.8;\" x=\"317.951568\" xlink:href=\"#m38a040ce9e\" y=\"224.64\"/>\n      </g>\n     </g>\n     <g id=\"text_6\">\n      <!-- 100 -->\n      <defs>\n       <path d=\"M 12.40625 8.296875 \nL 28.515625 8.296875 \nL 28.515625 63.921875 \nL 10.984375 60.40625 \nL 10.984375 69.390625 \nL 28.421875 72.90625 \nL 38.28125 72.90625 \nL 38.28125 8.296875 \nL 54.390625 8.296875 \nL 54.390625 0 \nL 12.40625 0 \nz\n\" id=\"DejaVuSans-49\"/>\n      </defs>\n      <g transform=\"translate(308.407818 239.238437)scale(0.1 -0.1)\">\n       <use xlink:href=\"#DejaVuSans-49\"/>\n       <use x=\"63.623047\" xlink:href=\"#DejaVuSans-48\"/>\n       <use x=\"127.246094\" xlink:href=\"#DejaVuSans-48\"/>\n      </g>\n     </g>\n    </g>\n    <g id=\"xtick_7\">\n     <g id=\"line2d_13\">\n      <path clip-path=\"url(#p85af397aa3)\" d=\"M 369.105121 224.64 \nL 369.105121 7.2 \n\" style=\"fill:none;stroke:#b0b0b0;stroke-linecap:square;stroke-width:0.8;\"/>\n     </g>\n     <g id=\"line2d_14\">\n      <g>\n       <use style=\"stroke:#000000;stroke-width:0.8;\" x=\"369.105121\" xlink:href=\"#m38a040ce9e\" y=\"224.64\"/>\n      </g>\n     </g>\n     <g id=\"text_7\">\n      <!-- 120 -->\n      <g transform=\"translate(359.561371 239.238437)scale(0.1 -0.1)\">\n       <use xlink:href=\"#DejaVuSans-49\"/>\n       <use x=\"63.623047\" xlink:href=\"#DejaVuSans-50\"/>\n       <use x=\"127.246094\" xlink:href=\"#DejaVuSans-48\"/>\n      </g>\n     </g>\n    </g>\n    <g id=\"text_8\">\n     <!-- epoch -->\n     <defs>\n      <path d=\"M 56.203125 29.59375 \nL 56.203125 25.203125 \nL 14.890625 25.203125 \nQ 15.484375 15.921875 20.484375 11.0625 \nQ 25.484375 6.203125 34.421875 6.203125 \nQ 39.59375 6.203125 44.453125 7.46875 \nQ 49.3125 8.734375 54.109375 11.28125 \nL 54.109375 2.78125 \nQ 49.265625 0.734375 44.1875 -0.34375 \nQ 39.109375 -1.421875 33.890625 -1.421875 \nQ 20.796875 -1.421875 13.15625 6.1875 \nQ 5.515625 13.8125 5.515625 26.8125 \nQ 5.515625 40.234375 12.765625 48.109375 \nQ 20.015625 56 32.328125 56 \nQ 43.359375 56 49.78125 48.890625 \nQ 56.203125 41.796875 56.203125 29.59375 \nz\nM 47.21875 32.234375 \nQ 47.125 39.59375 43.09375 43.984375 \nQ 39.0625 48.390625 32.421875 48.390625 \nQ 24.90625 48.390625 20.390625 44.140625 \nQ 15.875 39.890625 15.1875 32.171875 \nz\n\" id=\"DejaVuSans-101\"/>\n      <path d=\"M 18.109375 8.203125 \nL 18.109375 -20.796875 \nL 9.078125 -20.796875 \nL 9.078125 54.6875 \nL 18.109375 54.6875 \nL 18.109375 46.390625 \nQ 20.953125 51.265625 25.265625 53.625 \nQ 29.59375 56 35.59375 56 \nQ 45.5625 56 51.78125 48.09375 \nQ 58.015625 40.1875 58.015625 27.296875 \nQ 58.015625 14.40625 51.78125 6.484375 \nQ 45.5625 -1.421875 35.59375 -1.421875 \nQ 29.59375 -1.421875 25.265625 0.953125 \nQ 20.953125 3.328125 18.109375 8.203125 \nz\nM 48.6875 27.296875 \nQ 48.6875 37.203125 44.609375 42.84375 \nQ 40.53125 48.484375 33.40625 48.484375 \nQ 26.265625 48.484375 22.1875 42.84375 \nQ 18.109375 37.203125 18.109375 27.296875 \nQ 18.109375 17.390625 22.1875 11.75 \nQ 26.265625 6.109375 33.40625 6.109375 \nQ 40.53125 6.109375 44.609375 11.75 \nQ 48.6875 17.390625 48.6875 27.296875 \nz\n\" id=\"DejaVuSans-112\"/>\n      <path d=\"M 30.609375 48.390625 \nQ 23.390625 48.390625 19.1875 42.75 \nQ 14.984375 37.109375 14.984375 27.296875 \nQ 14.984375 17.484375 19.15625 11.84375 \nQ 23.34375 6.203125 30.609375 6.203125 \nQ 37.796875 6.203125 41.984375 11.859375 \nQ 46.1875 17.53125 46.1875 27.296875 \nQ 46.1875 37.015625 41.984375 42.703125 \nQ 37.796875 48.390625 30.609375 48.390625 \nz\nM 30.609375 56 \nQ 42.328125 56 49.015625 48.375 \nQ 55.71875 40.765625 55.71875 27.296875 \nQ 55.71875 13.875 49.015625 6.21875 \nQ 42.328125 -1.421875 30.609375 -1.421875 \nQ 18.84375 -1.421875 12.171875 6.21875 \nQ 5.515625 13.875 5.515625 27.296875 \nQ 5.515625 40.765625 12.171875 48.375 \nQ 18.84375 56 30.609375 56 \nz\n\" id=\"DejaVuSans-111\"/>\n      <path d=\"M 48.78125 52.59375 \nL 48.78125 44.1875 \nQ 44.96875 46.296875 41.140625 47.34375 \nQ 37.3125 48.390625 33.40625 48.390625 \nQ 24.65625 48.390625 19.8125 42.84375 \nQ 14.984375 37.3125 14.984375 27.296875 \nQ 14.984375 17.28125 19.8125 11.734375 \nQ 24.65625 6.203125 33.40625 6.203125 \nQ 37.3125 6.203125 41.140625 7.25 \nQ 44.96875 8.296875 48.78125 10.40625 \nL 48.78125 2.09375 \nQ 45.015625 0.34375 40.984375 -0.53125 \nQ 36.96875 -1.421875 32.421875 -1.421875 \nQ 20.0625 -1.421875 12.78125 6.34375 \nQ 5.515625 14.109375 5.515625 27.296875 \nQ 5.515625 40.671875 12.859375 48.328125 \nQ 20.21875 56 33.015625 56 \nQ 37.15625 56 41.109375 55.140625 \nQ 45.0625 54.296875 48.78125 52.59375 \nz\n\" id=\"DejaVuSans-99\"/>\n      <path d=\"M 54.890625 33.015625 \nL 54.890625 0 \nL 45.90625 0 \nL 45.90625 32.71875 \nQ 45.90625 40.484375 42.875 44.328125 \nQ 39.84375 48.1875 33.796875 48.1875 \nQ 26.515625 48.1875 22.3125 43.546875 \nQ 18.109375 38.921875 18.109375 30.90625 \nL 18.109375 0 \nL 9.078125 0 \nL 9.078125 75.984375 \nL 18.109375 75.984375 \nL 18.109375 46.1875 \nQ 21.34375 51.125 25.703125 53.5625 \nQ 30.078125 56 35.796875 56 \nQ 45.21875 56 50.046875 50.171875 \nQ 54.890625 44.34375 54.890625 33.015625 \nz\n\" id=\"DejaVuSans-104\"/>\n     </defs>\n     <g transform=\"translate(199.1375 252.916562)scale(0.1 -0.1)\">\n      <use xlink:href=\"#DejaVuSans-101\"/>\n      <use x=\"61.523438\" xlink:href=\"#DejaVuSans-112\"/>\n      <use x=\"125\" xlink:href=\"#DejaVuSans-111\"/>\n      <use x=\"186.181641\" xlink:href=\"#DejaVuSans-99\"/>\n      <use x=\"241.162109\" xlink:href=\"#DejaVuSans-104\"/>\n     </g>\n    </g>\n   </g>\n   <g id=\"matplotlib.axis_2\">\n    <g id=\"ytick_1\">\n     <g id=\"line2d_15\">\n      <path clip-path=\"url(#p85af397aa3)\" d=\"M 46.965625 215.61967 \nL 381.765625 215.61967 \n\" style=\"fill:none;stroke:#b0b0b0;stroke-linecap:square;stroke-width:0.8;\"/>\n     </g>\n     <g id=\"line2d_16\">\n      <defs>\n       <path d=\"M 0 0 \nL -3.5 0 \n\" id=\"me903e48551\" style=\"stroke:#000000;stroke-width:0.8;\"/>\n      </defs>\n      <g>\n       <use style=\"stroke:#000000;stroke-width:0.8;\" x=\"46.965625\" xlink:href=\"#me903e48551\" y=\"215.61967\"/>\n      </g>\n     </g>\n     <g id=\"text_9\">\n      <!-- 0 -->\n      <g transform=\"translate(33.603125 219.418888)scale(0.1 -0.1)\">\n       <use xlink:href=\"#DejaVuSans-48\"/>\n      </g>\n     </g>\n    </g>\n    <g id=\"ytick_2\">\n     <g id=\"line2d_17\">\n      <path clip-path=\"url(#p85af397aa3)\" d=\"M 46.965625 180.574571 \nL 381.765625 180.574571 \n\" style=\"fill:none;stroke:#b0b0b0;stroke-linecap:square;stroke-width:0.8;\"/>\n     </g>\n     <g id=\"line2d_18\">\n      <g>\n       <use style=\"stroke:#000000;stroke-width:0.8;\" x=\"46.965625\" xlink:href=\"#me903e48551\" y=\"180.574571\"/>\n      </g>\n     </g>\n     <g id=\"text_10\">\n      <!-- 100 -->\n      <g transform=\"translate(20.878125 184.37379)scale(0.1 -0.1)\">\n       <use xlink:href=\"#DejaVuSans-49\"/>\n       <use x=\"63.623047\" xlink:href=\"#DejaVuSans-48\"/>\n       <use x=\"127.246094\" xlink:href=\"#DejaVuSans-48\"/>\n      </g>\n     </g>\n    </g>\n    <g id=\"ytick_3\">\n     <g id=\"line2d_19\">\n      <path clip-path=\"url(#p85af397aa3)\" d=\"M 46.965625 145.529473 \nL 381.765625 145.529473 \n\" style=\"fill:none;stroke:#b0b0b0;stroke-linecap:square;stroke-width:0.8;\"/>\n     </g>\n     <g id=\"line2d_20\">\n      <g>\n       <use style=\"stroke:#000000;stroke-width:0.8;\" x=\"46.965625\" xlink:href=\"#me903e48551\" y=\"145.529473\"/>\n      </g>\n     </g>\n     <g id=\"text_11\">\n      <!-- 200 -->\n      <g transform=\"translate(20.878125 149.328692)scale(0.1 -0.1)\">\n       <use xlink:href=\"#DejaVuSans-50\"/>\n       <use x=\"63.623047\" xlink:href=\"#DejaVuSans-48\"/>\n       <use x=\"127.246094\" xlink:href=\"#DejaVuSans-48\"/>\n      </g>\n     </g>\n    </g>\n    <g id=\"ytick_4\">\n     <g id=\"line2d_21\">\n      <path clip-path=\"url(#p85af397aa3)\" d=\"M 46.965625 110.484374 \nL 381.765625 110.484374 \n\" style=\"fill:none;stroke:#b0b0b0;stroke-linecap:square;stroke-width:0.8;\"/>\n     </g>\n     <g id=\"line2d_22\">\n      <g>\n       <use style=\"stroke:#000000;stroke-width:0.8;\" x=\"46.965625\" xlink:href=\"#me903e48551\" y=\"110.484374\"/>\n      </g>\n     </g>\n     <g id=\"text_12\">\n      <!-- 300 -->\n      <defs>\n       <path d=\"M 40.578125 39.3125 \nQ 47.65625 37.796875 51.625 33 \nQ 55.609375 28.21875 55.609375 21.1875 \nQ 55.609375 10.40625 48.1875 4.484375 \nQ 40.765625 -1.421875 27.09375 -1.421875 \nQ 22.515625 -1.421875 17.65625 -0.515625 \nQ 12.796875 0.390625 7.625 2.203125 \nL 7.625 11.71875 \nQ 11.71875 9.328125 16.59375 8.109375 \nQ 21.484375 6.890625 26.8125 6.890625 \nQ 36.078125 6.890625 40.9375 10.546875 \nQ 45.796875 14.203125 45.796875 21.1875 \nQ 45.796875 27.640625 41.28125 31.265625 \nQ 36.765625 34.90625 28.71875 34.90625 \nL 20.21875 34.90625 \nL 20.21875 43.015625 \nL 29.109375 43.015625 \nQ 36.375 43.015625 40.234375 45.921875 \nQ 44.09375 48.828125 44.09375 54.296875 \nQ 44.09375 59.90625 40.109375 62.90625 \nQ 36.140625 65.921875 28.71875 65.921875 \nQ 24.65625 65.921875 20.015625 65.03125 \nQ 15.375 64.15625 9.8125 62.3125 \nL 9.8125 71.09375 \nQ 15.4375 72.65625 20.34375 73.4375 \nQ 25.25 74.21875 29.59375 74.21875 \nQ 40.828125 74.21875 47.359375 69.109375 \nQ 53.90625 64.015625 53.90625 55.328125 \nQ 53.90625 49.265625 50.4375 45.09375 \nQ 46.96875 40.921875 40.578125 39.3125 \nz\n\" id=\"DejaVuSans-51\"/>\n      </defs>\n      <g transform=\"translate(20.878125 114.283593)scale(0.1 -0.1)\">\n       <use xlink:href=\"#DejaVuSans-51\"/>\n       <use x=\"63.623047\" xlink:href=\"#DejaVuSans-48\"/>\n       <use x=\"127.246094\" xlink:href=\"#DejaVuSans-48\"/>\n      </g>\n     </g>\n    </g>\n    <g id=\"ytick_5\">\n     <g id=\"line2d_23\">\n      <path clip-path=\"url(#p85af397aa3)\" d=\"M 46.965625 75.439276 \nL 381.765625 75.439276 \n\" style=\"fill:none;stroke:#b0b0b0;stroke-linecap:square;stroke-width:0.8;\"/>\n     </g>\n     <g id=\"line2d_24\">\n      <g>\n       <use style=\"stroke:#000000;stroke-width:0.8;\" x=\"46.965625\" xlink:href=\"#me903e48551\" y=\"75.439276\"/>\n      </g>\n     </g>\n     <g id=\"text_13\">\n      <!-- 400 -->\n      <g transform=\"translate(20.878125 79.238495)scale(0.1 -0.1)\">\n       <use xlink:href=\"#DejaVuSans-52\"/>\n       <use x=\"63.623047\" xlink:href=\"#DejaVuSans-48\"/>\n       <use x=\"127.246094\" xlink:href=\"#DejaVuSans-48\"/>\n      </g>\n     </g>\n    </g>\n    <g id=\"ytick_6\">\n     <g id=\"line2d_25\">\n      <path clip-path=\"url(#p85af397aa3)\" d=\"M 46.965625 40.394177 \nL 381.765625 40.394177 \n\" style=\"fill:none;stroke:#b0b0b0;stroke-linecap:square;stroke-width:0.8;\"/>\n     </g>\n     <g id=\"line2d_26\">\n      <g>\n       <use style=\"stroke:#000000;stroke-width:0.8;\" x=\"46.965625\" xlink:href=\"#me903e48551\" y=\"40.394177\"/>\n      </g>\n     </g>\n     <g id=\"text_14\">\n      <!-- 500 -->\n      <defs>\n       <path d=\"M 10.796875 72.90625 \nL 49.515625 72.90625 \nL 49.515625 64.59375 \nL 19.828125 64.59375 \nL 19.828125 46.734375 \nQ 21.96875 47.46875 24.109375 47.828125 \nQ 26.265625 48.1875 28.421875 48.1875 \nQ 40.625 48.1875 47.75 41.5 \nQ 54.890625 34.8125 54.890625 23.390625 \nQ 54.890625 11.625 47.5625 5.09375 \nQ 40.234375 -1.421875 26.90625 -1.421875 \nQ 22.3125 -1.421875 17.546875 -0.640625 \nQ 12.796875 0.140625 7.71875 1.703125 \nL 7.71875 11.625 \nQ 12.109375 9.234375 16.796875 8.0625 \nQ 21.484375 6.890625 26.703125 6.890625 \nQ 35.15625 6.890625 40.078125 11.328125 \nQ 45.015625 15.765625 45.015625 23.390625 \nQ 45.015625 31 40.078125 35.4375 \nQ 35.15625 39.890625 26.703125 39.890625 \nQ 22.75 39.890625 18.8125 39.015625 \nQ 14.890625 38.140625 10.796875 36.28125 \nz\n\" id=\"DejaVuSans-53\"/>\n      </defs>\n      <g transform=\"translate(20.878125 44.193396)scale(0.1 -0.1)\">\n       <use xlink:href=\"#DejaVuSans-53\"/>\n       <use x=\"63.623047\" xlink:href=\"#DejaVuSans-48\"/>\n       <use x=\"127.246094\" xlink:href=\"#DejaVuSans-48\"/>\n      </g>\n     </g>\n    </g>\n    <g id=\"text_15\">\n     <!-- loss -->\n     <defs>\n      <path d=\"M 9.421875 75.984375 \nL 18.40625 75.984375 \nL 18.40625 0 \nL 9.421875 0 \nz\n\" id=\"DejaVuSans-108\"/>\n      <path d=\"M 44.28125 53.078125 \nL 44.28125 44.578125 \nQ 40.484375 46.53125 36.375 47.5 \nQ 32.28125 48.484375 27.875 48.484375 \nQ 21.1875 48.484375 17.84375 46.4375 \nQ 14.5 44.390625 14.5 40.28125 \nQ 14.5 37.15625 16.890625 35.375 \nQ 19.28125 33.59375 26.515625 31.984375 \nL 29.59375 31.296875 \nQ 39.15625 29.25 43.1875 25.515625 \nQ 47.21875 21.78125 47.21875 15.09375 \nQ 47.21875 7.46875 41.1875 3.015625 \nQ 35.15625 -1.421875 24.609375 -1.421875 \nQ 20.21875 -1.421875 15.453125 -0.5625 \nQ 10.6875 0.296875 5.421875 2 \nL 5.421875 11.28125 \nQ 10.40625 8.6875 15.234375 7.390625 \nQ 20.0625 6.109375 24.8125 6.109375 \nQ 31.15625 6.109375 34.5625 8.28125 \nQ 37.984375 10.453125 37.984375 14.40625 \nQ 37.984375 18.0625 35.515625 20.015625 \nQ 33.0625 21.96875 24.703125 23.78125 \nL 21.578125 24.515625 \nQ 13.234375 26.265625 9.515625 29.90625 \nQ 5.8125 33.546875 5.8125 39.890625 \nQ 5.8125 47.609375 11.28125 51.796875 \nQ 16.75 56 26.8125 56 \nQ 31.78125 56 36.171875 55.265625 \nQ 40.578125 54.546875 44.28125 53.078125 \nz\n\" id=\"DejaVuSans-115\"/>\n     </defs>\n     <g transform=\"translate(14.798438 125.577812)rotate(-90)scale(0.1 -0.1)\">\n      <use xlink:href=\"#DejaVuSans-108\"/>\n      <use x=\"27.783203\" xlink:href=\"#DejaVuSans-111\"/>\n      <use x=\"88.964844\" xlink:href=\"#DejaVuSans-115\"/>\n      <use x=\"141.064453\" xlink:href=\"#DejaVuSans-115\"/>\n     </g>\n    </g>\n   </g>\n   <g id=\"line2d_27\">\n    <path clip-path=\"url(#p85af397aa3)\" d=\"M 62.183807 17.083636 \nL 64.741484 119.887475 \nL 67.299162 181.861089 \nL 69.85684 201.59076 \nL 72.414517 205.368368 \nL 74.972195 206.420551 \nL 77.529873 206.927545 \nL 80.08755 207.309746 \nL 82.645228 207.652252 \nL 85.202905 207.884833 \nL 87.760583 208.246152 \nL 90.318261 208.49163 \nL 92.875938 208.758406 \nL 95.433616 208.955592 \nL 97.991293 209.164793 \nL 100.548971 209.354663 \nL 103.106649 209.571892 \nL 105.664326 209.791172 \nL 108.222004 208.184009 \nL 110.779682 209.111064 \nL 113.337359 209.606407 \nL 115.895037 209.932101 \nL 118.452714 210.216442 \nL 121.010392 210.452036 \nL 123.56807 210.707304 \nL 126.125747 210.929624 \nL 128.683425 211.138434 \nL 131.241102 211.329828 \nL 133.79878 211.533384 \nL 136.356458 211.700511 \nL 138.914135 211.835348 \nL 141.471813 211.93108 \nL 144.029491 212.091378 \nL 146.587168 212.194125 \nL 149.144846 212.299581 \nL 151.702523 212.397768 \nL 154.260201 212.469423 \nL 156.817879 212.550496 \nL 159.375556 212.608457 \nL 161.933234 212.686693 \nL 164.490911 212.725514 \nL 167.048589 212.80935 \nL 169.606267 212.873171 \nL 172.163944 212.915972 \nL 174.721622 212.964421 \nL 177.2793 213.006766 \nL 179.836977 213.060959 \nL 182.394655 213.096723 \nL 184.952332 213.122805 \nL 187.51001 213.161033 \nL 190.067688 213.199541 \nL 192.625365 213.241685 \nL 195.183043 213.27343 \nL 197.74072 213.309177 \nL 200.298398 213.344369 \nL 202.856076 213.378535 \nL 205.413753 213.403494 \nL 207.971431 213.425694 \nL 210.529109 213.456184 \nL 213.086786 213.504671 \nL 215.644464 213.519579 \nL 218.202141 213.528365 \nL 220.759819 213.569209 \nL 223.317497 213.597017 \nL 225.875174 213.628059 \nL 228.432852 213.640037 \nL 230.99053 213.656316 \nL 233.548207 213.685363 \nL 236.105885 213.711879 \nL 238.663562 213.731801 \nL 241.22124 213.744832 \nL 243.778918 213.786173 \nL 246.336595 213.797994 \nL 248.894273 213.796272 \nL 251.45195 213.81798 \nL 254.009628 213.842226 \nL 256.567306 213.854547 \nL 259.124983 213.863964 \nL 261.682661 213.887114 \nL 264.240339 213.891378 \nL 266.798016 213.895911 \nL 269.355694 213.928976 \nL 271.913371 213.919962 \nL 274.471049 213.944709 \nL 277.028727 213.965983 \nL 279.586404 213.966444 \nL 282.144082 213.992795 \nL 284.701759 213.992763 \nL 287.259437 214.000705 \nL 289.817115 214.010636 \nL 292.374792 214.033942 \nL 294.93247 214.04778 \nL 297.490148 214.051107 \nL 300.047825 214.055518 \nL 302.605503 214.069867 \nL 305.16318 214.075209 \nL 307.720858 214.081376 \nL 310.278536 214.086586 \nL 312.836213 214.111847 \nL 315.393891 214.110333 \nL 317.951568 214.123156 \nL 320.509246 214.133063 \nL 323.066924 214.126787 \nL 325.624601 214.142935 \nL 328.182279 214.148428 \nL 330.739957 214.160131 \nL 333.297634 214.174365 \nL 335.855312 214.177016 \nL 338.412989 214.181004 \nL 340.970667 214.188245 \nL 343.528345 214.200097 \nL 346.086022 214.19768 \nL 348.6437 214.165654 \nL 351.201377 214.22211 \nL 353.759055 214.222633 \nL 356.316733 214.2228 \nL 358.87441 214.23878 \nL 361.432088 214.244786 \nL 363.989766 214.246701 \nL 366.547443 214.260091 \n\" style=\"fill:none;stroke:#1f77b4;stroke-linecap:square;stroke-width:3;\"/>\n   </g>\n   <g id=\"line2d_28\">\n    <path clip-path=\"url(#p85af397aa3)\" d=\"M 62.183807 78.097324 \nL 64.741484 164.956061 \nL 67.299162 197.861314 \nL 69.85684 204.72287 \nL 72.414517 206.297631 \nL 74.972195 206.872143 \nL 77.529873 207.349959 \nL 80.08755 207.638489 \nL 82.645228 208.206668 \nL 85.202905 208.471854 \nL 87.760583 208.427198 \nL 90.318261 209.088113 \nL 92.875938 209.394657 \nL 95.433616 208.063339 \nL 97.991293 209.738622 \nL 100.548971 209.827293 \nL 103.106649 210.219681 \nL 105.664326 210.481611 \nL 108.222004 208.853433 \nL 110.779682 209.724397 \nL 113.337359 210.444623 \nL 115.895037 210.688692 \nL 118.452714 210.854325 \nL 121.010392 211.118491 \nL 123.56807 211.463962 \nL 126.125747 211.646657 \nL 128.683425 211.817441 \nL 131.241102 211.987077 \nL 133.79878 212.309417 \nL 136.356458 212.399178 \nL 138.914135 212.551005 \nL 141.471813 212.559947 \nL 144.029491 212.873545 \nL 146.587168 212.965129 \nL 149.144846 213.072825 \nL 151.702523 213.102677 \nL 154.260201 213.216197 \nL 156.817879 213.242791 \nL 159.375556 213.346634 \nL 161.933234 213.366562 \nL 164.490911 213.444942 \nL 167.048589 213.505673 \nL 169.606267 213.599659 \nL 172.163944 213.455083 \nL 174.721622 213.506551 \nL 177.2793 213.621567 \nL 179.836977 213.683673 \nL 182.394655 213.773585 \nL 184.952332 213.786982 \nL 187.51001 213.642543 \nL 190.067688 213.890741 \nL 192.625365 213.898043 \nL 195.183043 213.947398 \nL 197.74072 213.914066 \nL 200.298398 213.999854 \nL 202.856076 213.972439 \nL 205.413753 213.901527 \nL 207.971431 214.017906 \nL 210.529109 214.088279 \nL 213.086786 214.051631 \nL 215.644464 214.078953 \nL 218.202141 214.156942 \nL 220.759819 214.169863 \nL 223.317497 214.192857 \nL 225.875174 214.267432 \nL 228.432852 214.231387 \nL 230.99053 214.290902 \nL 233.548207 214.337814 \nL 236.105885 214.29059 \nL 238.663562 214.329843 \nL 241.22124 214.259401 \nL 243.778918 214.379555 \nL 246.336595 214.391419 \nL 248.894273 214.419292 \nL 251.45195 214.429152 \nL 254.009628 214.371622 \nL 256.567306 214.44879 \nL 259.124983 214.440736 \nL 261.682661 214.41026 \nL 264.240339 214.50965 \nL 266.798016 214.440515 \nL 269.355694 214.505168 \nL 271.913371 214.42617 \nL 274.471049 214.534354 \nL 277.028727 214.510973 \nL 279.586404 214.532913 \nL 282.144082 214.582464 \nL 284.701759 214.552124 \nL 287.259437 214.503974 \nL 289.817115 214.575043 \nL 292.374792 214.593122 \nL 294.93247 214.595892 \nL 297.490148 214.568447 \nL 300.047825 214.606238 \nL 302.605503 214.611689 \nL 305.16318 214.614033 \nL 307.720858 214.639147 \nL 310.278536 214.620668 \nL 312.836213 214.614566 \nL 315.393891 214.498704 \nL 317.951568 214.670582 \nL 320.509246 214.538843 \nL 323.066924 214.667665 \nL 325.624601 214.651132 \nL 328.182279 214.690905 \nL 330.739957 214.695391 \nL 333.297634 214.605197 \nL 335.855312 214.689668 \nL 338.412989 214.692707 \nL 340.970667 214.702455 \nL 343.528345 214.647837 \nL 346.086022 214.719342 \nL 348.6437 214.693673 \nL 351.201377 214.749462 \nL 353.759055 214.677304 \nL 356.316733 214.727295 \nL 358.87441 214.710143 \nL 361.432088 214.742343 \nL 363.989766 214.756364 \nL 366.547443 214.67462 \n\" style=\"fill:none;stroke:#ff7f0e;stroke-linecap:square;stroke-width:3;\"/>\n   </g>\n   <g id=\"patch_3\">\n    <path d=\"M 46.965625 224.64 \nL 46.965625 7.2 \n\" style=\"fill:none;stroke:#000000;stroke-linecap:square;stroke-linejoin:miter;stroke-width:0.8;\"/>\n   </g>\n   <g id=\"patch_4\">\n    <path d=\"M 381.765625 224.64 \nL 381.765625 7.2 \n\" style=\"fill:none;stroke:#000000;stroke-linecap:square;stroke-linejoin:miter;stroke-width:0.8;\"/>\n   </g>\n   <g id=\"patch_5\">\n    <path d=\"M 46.965625 224.64 \nL 381.765625 224.64 \n\" style=\"fill:none;stroke:#000000;stroke-linecap:square;stroke-linejoin:miter;stroke-width:0.8;\"/>\n   </g>\n   <g id=\"patch_6\">\n    <path d=\"M 46.965625 7.2 \nL 381.765625 7.2 \n\" style=\"fill:none;stroke:#000000;stroke-linecap:square;stroke-linejoin:miter;stroke-width:0.8;\"/>\n   </g>\n   <g id=\"legend_1\">\n    <g id=\"patch_7\">\n     <path d=\"M 318.814063 44.55625 \nL 374.765625 44.55625 \nQ 376.765625 44.55625 376.765625 42.55625 \nL 376.765625 14.2 \nQ 376.765625 12.2 374.765625 12.2 \nL 318.814063 12.2 \nQ 316.814063 12.2 316.814063 14.2 \nL 316.814063 42.55625 \nQ 316.814063 44.55625 318.814063 44.55625 \nz\n\" style=\"fill:#ffffff;opacity:0.8;stroke:#cccccc;stroke-linejoin:miter;\"/>\n    </g>\n    <g id=\"line2d_29\">\n     <path d=\"M 320.814063 20.298437 \nL 340.814063 20.298437 \n\" style=\"fill:none;stroke:#1f77b4;stroke-linecap:square;stroke-width:3;\"/>\n    </g>\n    <g id=\"line2d_30\"/>\n    <g id=\"text_16\">\n     <!-- train -->\n     <defs>\n      <path d=\"M 18.3125 70.21875 \nL 18.3125 54.6875 \nL 36.8125 54.6875 \nL 36.8125 47.703125 \nL 18.3125 47.703125 \nL 18.3125 18.015625 \nQ 18.3125 11.328125 20.140625 9.421875 \nQ 21.96875 7.515625 27.59375 7.515625 \nL 36.8125 7.515625 \nL 36.8125 0 \nL 27.59375 0 \nQ 17.1875 0 13.234375 3.875 \nQ 9.28125 7.765625 9.28125 18.015625 \nL 9.28125 47.703125 \nL 2.6875 47.703125 \nL 2.6875 54.6875 \nL 9.28125 54.6875 \nL 9.28125 70.21875 \nz\n\" id=\"DejaVuSans-116\"/>\n      <path d=\"M 41.109375 46.296875 \nQ 39.59375 47.171875 37.8125 47.578125 \nQ 36.03125 48 33.890625 48 \nQ 26.265625 48 22.1875 43.046875 \nQ 18.109375 38.09375 18.109375 28.8125 \nL 18.109375 0 \nL 9.078125 0 \nL 9.078125 54.6875 \nL 18.109375 54.6875 \nL 18.109375 46.1875 \nQ 20.953125 51.171875 25.484375 53.578125 \nQ 30.03125 56 36.53125 56 \nQ 37.453125 56 38.578125 55.875 \nQ 39.703125 55.765625 41.0625 55.515625 \nz\n\" id=\"DejaVuSans-114\"/>\n      <path d=\"M 34.28125 27.484375 \nQ 23.390625 27.484375 19.1875 25 \nQ 14.984375 22.515625 14.984375 16.5 \nQ 14.984375 11.71875 18.140625 8.90625 \nQ 21.296875 6.109375 26.703125 6.109375 \nQ 34.1875 6.109375 38.703125 11.40625 \nQ 43.21875 16.703125 43.21875 25.484375 \nL 43.21875 27.484375 \nz\nM 52.203125 31.203125 \nL 52.203125 0 \nL 43.21875 0 \nL 43.21875 8.296875 \nQ 40.140625 3.328125 35.546875 0.953125 \nQ 30.953125 -1.421875 24.3125 -1.421875 \nQ 15.921875 -1.421875 10.953125 3.296875 \nQ 6 8.015625 6 15.921875 \nQ 6 25.140625 12.171875 29.828125 \nQ 18.359375 34.515625 30.609375 34.515625 \nL 43.21875 34.515625 \nL 43.21875 35.40625 \nQ 43.21875 41.609375 39.140625 45 \nQ 35.0625 48.390625 27.6875 48.390625 \nQ 23 48.390625 18.546875 47.265625 \nQ 14.109375 46.140625 10.015625 43.890625 \nL 10.015625 52.203125 \nQ 14.9375 54.109375 19.578125 55.046875 \nQ 24.21875 56 28.609375 56 \nQ 40.484375 56 46.34375 49.84375 \nQ 52.203125 43.703125 52.203125 31.203125 \nz\n\" id=\"DejaVuSans-97\"/>\n      <path d=\"M 9.421875 54.6875 \nL 18.40625 54.6875 \nL 18.40625 0 \nL 9.421875 0 \nz\nM 9.421875 75.984375 \nL 18.40625 75.984375 \nL 18.40625 64.59375 \nL 9.421875 64.59375 \nz\n\" id=\"DejaVuSans-105\"/>\n      <path d=\"M 54.890625 33.015625 \nL 54.890625 0 \nL 45.90625 0 \nL 45.90625 32.71875 \nQ 45.90625 40.484375 42.875 44.328125 \nQ 39.84375 48.1875 33.796875 48.1875 \nQ 26.515625 48.1875 22.3125 43.546875 \nQ 18.109375 38.921875 18.109375 30.90625 \nL 18.109375 0 \nL 9.078125 0 \nL 9.078125 54.6875 \nL 18.109375 54.6875 \nL 18.109375 46.1875 \nQ 21.34375 51.125 25.703125 53.5625 \nQ 30.078125 56 35.796875 56 \nQ 45.21875 56 50.046875 50.171875 \nQ 54.890625 44.34375 54.890625 33.015625 \nz\n\" id=\"DejaVuSans-110\"/>\n     </defs>\n     <g transform=\"translate(348.814063 23.798437)scale(0.1 -0.1)\">\n      <use xlink:href=\"#DejaVuSans-116\"/>\n      <use x=\"39.208984\" xlink:href=\"#DejaVuSans-114\"/>\n      <use x=\"80.322266\" xlink:href=\"#DejaVuSans-97\"/>\n      <use x=\"141.601562\" xlink:href=\"#DejaVuSans-105\"/>\n      <use x=\"169.384766\" xlink:href=\"#DejaVuSans-110\"/>\n     </g>\n    </g>\n    <g id=\"line2d_31\">\n     <path d=\"M 320.814063 34.976562 \nL 340.814063 34.976562 \n\" style=\"fill:none;stroke:#ff7f0e;stroke-linecap:square;stroke-width:3;\"/>\n    </g>\n    <g id=\"line2d_32\"/>\n    <g id=\"text_17\">\n     <!-- valid -->\n     <defs>\n      <path d=\"M 2.984375 54.6875 \nL 12.5 54.6875 \nL 29.59375 8.796875 \nL 46.6875 54.6875 \nL 56.203125 54.6875 \nL 35.6875 0 \nL 23.484375 0 \nz\n\" id=\"DejaVuSans-118\"/>\n      <path d=\"M 45.40625 46.390625 \nL 45.40625 75.984375 \nL 54.390625 75.984375 \nL 54.390625 0 \nL 45.40625 0 \nL 45.40625 8.203125 \nQ 42.578125 3.328125 38.25 0.953125 \nQ 33.9375 -1.421875 27.875 -1.421875 \nQ 17.96875 -1.421875 11.734375 6.484375 \nQ 5.515625 14.40625 5.515625 27.296875 \nQ 5.515625 40.1875 11.734375 48.09375 \nQ 17.96875 56 27.875 56 \nQ 33.9375 56 38.25 53.625 \nQ 42.578125 51.265625 45.40625 46.390625 \nz\nM 14.796875 27.296875 \nQ 14.796875 17.390625 18.875 11.75 \nQ 22.953125 6.109375 30.078125 6.109375 \nQ 37.203125 6.109375 41.296875 11.75 \nQ 45.40625 17.390625 45.40625 27.296875 \nQ 45.40625 37.203125 41.296875 42.84375 \nQ 37.203125 48.484375 30.078125 48.484375 \nQ 22.953125 48.484375 18.875 42.84375 \nQ 14.796875 37.203125 14.796875 27.296875 \nz\n\" id=\"DejaVuSans-100\"/>\n     </defs>\n     <g transform=\"translate(348.814063 38.476562)scale(0.1 -0.1)\">\n      <use xlink:href=\"#DejaVuSans-118\"/>\n      <use x=\"59.179688\" xlink:href=\"#DejaVuSans-97\"/>\n      <use x=\"120.458984\" xlink:href=\"#DejaVuSans-108\"/>\n      <use x=\"148.242188\" xlink:href=\"#DejaVuSans-105\"/>\n      <use x=\"176.025391\" xlink:href=\"#DejaVuSans-100\"/>\n     </g>\n    </g>\n   </g>\n  </g>\n </g>\n <defs>\n  <clipPath id=\"p85af397aa3\">\n   <rect height=\"217.44\" width=\"334.8\" x=\"46.965625\" y=\"7.2\"/>\n  </clipPath>\n </defs>\n</svg>\n",
      "image/png": "[encoded data removed]"
     },
     "metadata": {
      "needs_background": "light"
     }
    }
   ],
   "source": [
    "pyplot.plot(hist.history['loss'], linewidth=3, label='train')\n",
    "pyplot.plot(hist.history['val_loss'], linewidth=3, label='valid')\n",
    "pyplot.grid()\n",
    "pyplot.legend()\n",
    "pyplot.xlabel('epoch')\n",
    "pyplot.ylabel('loss')\n",
    "pyplot.show()"
   ]
  },
  {
   "cell_type": "code",
   "execution_count": null,
   "metadata": {},
   "outputs": [],
   "source": [
    " "
   ]
  }
 ]
}